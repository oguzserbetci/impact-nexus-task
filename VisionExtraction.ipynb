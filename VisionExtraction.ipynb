{
 "cells": [
  {
   "cell_type": "markdown",
   "metadata": {},
   "source": [
    "NLP task:\n",
    "1. Please develop a program in python that extracts the vision/mission of the company out of the example text we provide. Please share the results in a commented jupyter notebook that explains your solution (please justify your model choice). \n",
    "2. Explain the challenges that lie in the extraction of the service/product of a business for the example texts. Write down some ideas how you would approach the task.\n",
    "Attached you find\n",
    "• We shared 3 example jsons to work with (as a warning, there is a lot of noise in the data, so you have to identify the right sections!)\n"
   ]
  },
  {
   "cell_type": "code",
   "execution_count": null,
   "metadata": {},
   "outputs": [],
   "source": [
    "from pathlib import Path\n",
    "import json"
   ]
  },
  {
   "cell_type": "code",
   "execution_count": null,
   "metadata": {},
   "outputs": [],
   "source": [
    "scrapes = {}"
   ]
  },
  {
   "cell_type": "code",
   "execution_count": null,
   "metadata": {},
   "outputs": [],
   "source": [
    "for json_path in Path('data/').glob('*.json'):\n",
    "    with open(json_path) as f:\n",
    "        scrape = json.load(f)\n",
    "        scrape['json_path'] = str(json_path)\n",
    "        scrapes[scrape['website']['company_name']] = scrape"
   ]
  },
  {
   "cell_type": "code",
   "execution_count": null,
   "metadata": {},
   "outputs": [],
   "source": [
    "list(scrapes.keys())"
   ]
  },
  {
   "cell_type": "code",
   "execution_count": null,
   "metadata": {},
   "outputs": [],
   "source": [
    "company_name = 'Black Bear Carbon'\n",
    "for company, scrape in scrapes.items():\n",
    "    print(company)\n",
    "    print(list(scrape['website']['website_content'].keys()))"
   ]
  },
  {
   "cell_type": "code",
   "execution_count": 6,
   "metadata": {},
   "outputs": [],
   "source": [
    "import re\n",
    "\n",
    "def get_website_content_with_regex(scrape, regex=r'(about)'):\n",
    "    dic = {}\n",
    "    for page_url, content in scrape['website']['website_content'].items():\n",
    "        if re.findall(regex, page_url):\n",
    "            dic[page_url] = content\n",
    "    return dic"
   ]
  },
  {
   "cell_type": "code",
   "execution_count": 7,
   "metadata": {},
   "outputs": [
    {
     "data": {
      "text/plain": [
       "{'https://blackbearcarbon.com': 'Translated: Home About Us Carbon Black Applications Coatings Inks Plastics Technical Rubber Tires Becoming a Partner Sustainability Media Gallery Events Videos Press Contact WE ARE BLACK BEAR WE ARE TECH PIONEERS DISCOVER WHY CARBON BLACK Almost every black-coloured object you see contains Carbon Black. Your mobile phone case, the ink in your pen, the buttons on your keyboard… and the tires on your car. Carbon Black is everywhere. UPCYCLED CARBON BLACK FROM TIRES Every year, more than 1.5 billion polluting end-of-life tires enter the global waste stream. Until now, there has been no sustainable solution. BLACK BEAR We upcycle end-of-life tires to produce sustainable Carbon Black, preventing CO 2 emissions and solving the global waste tire problem. BLACK BEAR IS SUPPORTED BY PRESS RELEASE Black Bear awarded as Technology Pioneer by World Economic Forum! Press Release (EN) See CARBON BLACK APPLICATIONS LATEST NEWS Black Bear appoints Victor Vreeken as Chief Technology Officer December 9, 2019 pieter Black Bear further strengthens team to support its scale-up and global technology roll-out.Vreeken holds master’s degrees in Mechanical Engineering, Chemical... Black Bear announces Port of Rotterdam as preferred location for new rCB plant in The Netherlands November 11, 2019 pieter Black Bear Carbon prefers the Port of Rotterdam for its next tire-carbonization plant in The Netherlands.In the upcoming weeks, Black... Black Bear announces CEO transition October 7, 2019 pieter Silvio Ghyoot will join Black Bear from CEFIC and brings significant experience in scaling factory infrastructure and running international operations... Black Bear awarded as Technology Pioneer by World Economic Forum July 1, 2019 pieter The World Economic Forum has announced its selection of the 56 most promising Technology Pioneers of 2019 who are shaping... Visit our Press page UPCOMING EVENTS Event Start Date End Date Location Speaker There are no upcoming events. Annual Meeting of the New Champions July 1, 2019 July 3, 2019 Dalian, China More info Pieter Ter Kuile European Carbon Black Summit June 26, 2019 June 27, 2019 London (UK) Ad van Oorschot Global Entrepreneurship Summit 2019 June 3, 2019 June 5, 2019 The Hague (NL) More info Martijn Lopes Cardozo Raw Materials Summit 2019 May 20, 2019 May 21, 2019 Berlin (DE) More info Geert Glimmerveen (CFO) Paint The Future – Akzo Startup Challenge May 16, 2019 Amsterdam (NL) More info Martijn Lopes Cardozo (jury member) European Masterbatch Summit 2019 May 15, 2019 May 16, 2019 Düsseldorf DE Tickets & Info Ad van Oorschot / Frank Cremer Next » See all our past events here Copyright – Black Bear Carbon B.V.'}"
      ]
     },
     "execution_count": 7,
     "metadata": {},
     "output_type": "execute_result"
    }
   ],
   "source": [
    "get_website_content_with_regex(scrapes[company_name], r'https?://[^/]+/?$')"
   ]
  },
  {
   "cell_type": "code",
   "execution_count": 8,
   "metadata": {},
   "outputs": [],
   "source": [
    "from collections import defaultdict\n",
    "\n",
    "missions = defaultdict(dict)\n",
    "for company, scrape in scrapes.items():\n",
    "    missions[company] |= get_website_content_with_regex(scrape, r'https?://[^/]+/?$')\n",
    "    missions[company] |= get_website_content_with_regex(scrape, r'https?://.*/[^/]*(about)[^/]*$')\n"
   ]
  },
  {
   "cell_type": "code",
   "execution_count": 9,
   "metadata": {},
   "outputs": [
    {
     "data": {
      "text/plain": [
       "{'https://hyperdriveinnovation.com': 'Translated: Skip to content Home About Battery Energy Storage Industries Technology Manufacturing Tel: +44 (0) 191 640 4586 Email: info@hyperdriveinnovation.com Menu Close Home About Battery Energy Storage Industries Technology Manufacturing Insights Community Careers Contact Twitter LinkedIn Announcement: Business Continuity in Response to COVID-19 Find out more High Performance Battery Energy Storage Systems Hyperdrive Innovation designs, develops and manufactures lithium ion battery systems. As a trusted electrification partner to original equipment manufacturers around the world, our battery technology is present in a diverse range of applications, providing our customers with the right energy at the right time. About Hyperdrive Innovation Language select: 普通话 日本語 Our battery energy storage solution Modular product range With a standardised design, our modular product range provides a flexible and scalable battery energy storage solution. Combining a high-performance lithium-ion NMC battery pack with a built in Battery Management System (BMS) our intelligent systems are designed for rapid deployment and volume manufacture, supplying you with class leading energy density and performance. Fast and efficient charging High voltage Easy fitting and installation Integrated Charger Controls Access to World-class Battery Cell Technology Proven automotive quality and global high volume supply UN38.3 Certified Approved for global shipping Versatile Scale up capacity without additional controllers High Voltage Connect modular packs in series for systems up to 630V Environmental Protection IP55 Our Industries Our lithium-ion battery packs are designed for a wide range of applications. Their modular design enables universal deployment across multiple industries. Off-Highway Material Handling Stationary Energy Storage Portable Energy Storage Our Approach Design We partner with you from initial concept stage and outline key characteristics and technical requirements. Supporting you through any problem solving, we provide expert guidance and knowhow to design robust application schematics. Develop We can support your product development, testing duty cycles and working alongside your engineering team from prototype through validation. Large projects will benefit from a dedicated project manager and a specialist systems integrations team. Manufacture As the UK’s leading independent battery manufacturing facility our 9,000 square foot factory is well equipped to meet your volume requirements. With a specialist production team and dedicated quality management unit, we maintain operational excellence and product assurance. Insights News 19th March, 2020 Business Continuity in Response to COVID-19 Read post News 3rd March, 2020 St Benedict’s Hospice named as Hyperdrive’s Charity of the Year 2020 Read post News 24th February, 2020 Hyperdrive win SME Company of the Year 2020 Read post Contact us Do you want to know more about our battery energy storage solutions? Get in touch today. MAKE AN ENQUIRY Email info@hyperdriveinnovation.com Telephone +44 (0) 191 640 4586 Social Twitter LinkedIn Future Technology Centre | Barmston Court | Nissan Way | Sunderland | Tyne and Wear | SR5 3NY | United Kingdom NEWSLETTER SIGN UP: Sign Up © 2020 Hyperdrive Innovation Limited. Accessibility Terms and Conditions Privacy Policy Sitemap UN Safety Testing Downloads Delivered with Cargo Creative Close',\n",
       " 'https://hyperdriveinnovation.com/about': \"Translated: Skip to content Home About Battery Energy Storage Industries Technology Manufacturing Tel: +44 (0) 191 640 4586 Email: info@hyperdriveinnovation.com Menu Close Home About Battery Energy Storage Industries Technology Manufacturing Insights Community Careers Contact Twitter LinkedIn Announcement: Business Continuity in Response to COVID-19 Find out more We Are Hyperdrive Home > About About Based in the north east of England within the UK’s principal location for advanced manufacturing, we have wide ranging experience in lithium-ion battery design, development and manufacture. Operating across a range of industries we have proven excellence in delivering solutions for some of the world’s largest brands and supporting the extensive requirements of new product development strategies. Our high-tech plant is the UK’s leading independent battery manufacturing facility with current capacity for up to 30,000 units per year. Close Our Mission Enabling the storage and use of the RIGHT energy at the RIGHT time Our History 2019 Expanded our UK facility to double our manufacturing capacity, increasing our global footprint with partners in Asia and the US 2018 Manufactured our 5,000th battery pack with plans to double production in 2019 2017 Supply agreement with JCB, one of the world’s largest construction machinery manufacturers 2016 £19m High Energy Density Battery Project in collaboration with Nissan & APC 2015 Power system design & build for the world’s largest online grocery retailer 2014 Moved to our dedicated 17,000 sq. ft development & manufacturing facility 2013 Powertrain and battery pack design for Autonomous Survey fleet 2012 Light-weighting the Electric Quadricycle Our Approach Design We partner with you from initial concept stage and outline key characteristics and technical requirements. Supporting you through any problem solving, we provide expert guidance and knowhow to design robust application schematics. Develop We can support your product development, testing duty cycles and working alongside your engineering team from prototype through validation. Large projects will benefit from a dedicated project manager and a specialist systems integrations team. Manufacture As the UK’s leading independent battery manufacturing facility our 9,000 square foot factory is well equipped to meet your volume requirements. With a specialist production team and dedicated quality management unit, we maintain operational excellence and product assurance. Our Executive Team Chris Pennison CEO Stephen Irish Commercial Director BEng, CEng, MIMechE Dr Dave Sandells Technical Director MBA, PhD Aidan Lannen Finance Director ACMA Our Non Executive Team Andrew Lapping Chairman Bim Sandhu Non Executive Director Tim Sale Non Executive Director Our Focus Customer Centric We're proud to put our customers at the core of what we do. Market Leading Offer As a technology developer we offer customers industry leading solutions. Reputation For Quality With a focus on high performance and high quality, we strive to be the best. Our Partners Collaborating to give our customers the right energy at the right time, our partners have worked with us to deliver more effective and successful projects. Contact us Do you want to know more about our battery energy storage solutions? Get in touch today. MAKE AN ENQUIRY Email info@hyperdriveinnovation.com Telephone +44 (0) 191 640 4586 Social Twitter LinkedIn Future Technology Centre | Barmston Court | Nissan Way | Sunderland | Tyne and Wear | SR5 3NY | United Kingdom NEWSLETTER SIGN UP: Sign Up © 2020 Hyperdrive Innovation Limited. Accessibility Terms and Conditions Privacy Policy Sitemap UN Safety Testing Downloads Delivered with Cargo Creative Close\"}"
      ]
     },
     "execution_count": 9,
     "metadata": {},
     "output_type": "execute_result"
    }
   ],
   "source": [
    "missions['Hyperdrive Innovation']"
   ]
  },
  {
   "cell_type": "code",
   "execution_count": 10,
   "metadata": {},
   "outputs": [],
   "source": [
    "import spacy\n",
    "\n",
    "nlp = spacy.load('en_core_web_md')"
   ]
  },
  {
   "cell_type": "code",
   "execution_count": 11,
   "metadata": {},
   "outputs": [],
   "source": [
    "contents = missions[company_name].values()"
   ]
  },
  {
   "cell_type": "code",
   "execution_count": 12,
   "metadata": {},
   "outputs": [],
   "source": [
    "docs = nlp.pipe(contents)"
   ]
  },
  {
   "cell_type": "code",
   "execution_count": 13,
   "metadata": {},
   "outputs": [
    {
     "name": "stdout",
     "output_type": "stream",
     "text": [
      "[Translated, Home, About]\n",
      "[Us, Carbon, Black, Applications, Coatings, Inks, Plastics, Technical, Rubber, Tires, Becoming]\n",
      "[a, Partner, Sustainability, Media, Gallery, Events, Videos]\n",
      "[Press, Contact]\n",
      "[WE, ARE]\n",
      "[BLACK, BEAR, WE, ARE, TECH, PIONEERS, DISCOVER, WHY, CARBON, BLACK]\n",
      "[Almost, every, black, coloured, object, you, see, contains, Carbon, Black]\n",
      "[Your, mobile, phone, case, the, ink, in, your, pen, the, buttons, on, your, keyboard, and, the, tires, on, your, car]\n",
      "[Carbon, Black, is, everywhere]\n",
      "[UPCYCLED, CARBON, BLACK, FROM, TIRES]\n",
      "[Every, year, more, than, polluting, end, of, life, tires, enter, the, global, waste, stream]\n",
      "[Until, now, there, has, been, no, sustainable, solution]\n",
      "[BLACK, BEAR]\n",
      "[We, upcycle, end, of, life, tires, to, produce, sustainable, Carbon, Black, preventing, CO, emissions, and, solving, the, global, waste, tire, problem]\n",
      "[BLACK, BEAR, IS, SUPPORTED, BY]\n",
      "[PRESS, RELEASE, Black, Bear, awarded, as, Technology, Pioneer, by, World, Economic, Forum]\n",
      "[Press, Release, EN, See, CARBON, BLACK, APPLICATIONS, LATEST, NEWS, Black, Bear, appoints, Victor, Vreeken, as, Chief, Technology, Officer, December]\n",
      "[pieter, Black, Bear, further, strengthens, team, to, support, its, scale, up, and, global, technology, roll, out]\n",
      "[Vreeken, holds, master, ’s, degrees, in, Mechanical, Engineering, Chemical]\n",
      "[Black, Bear, announces, Port, of, Rotterdam, as, preferred, location, for, new, rCB, plant, in, The, Netherlands, November]\n",
      "[pieter, Black, Bear, Carbon, prefers, the, Port, of, Rotterdam, for, its, next, tire, carbonization, plant, in, The, Netherlands]\n",
      "[In, the, upcoming, weeks, Black, Black, Bear, announces, CEO, transition, October]\n",
      "[pieter, Silvio, Ghyoot, will, join, Black, Bear, from, CEFIC, and, brings, significant, experience, in, scaling, factory, infrastructure, and, running, international, operations]\n",
      "[Black, Bear, awarded, as, Technology, Pioneer, by, World, Economic, Forum, July]\n",
      "[pieter]\n",
      "[The, World, Economic, Forum, has, announced, its, selection, of, the, most, promising, Technology, Pioneers, of, who, are, shaping]\n",
      "[Visit, our, Press, page, UPCOMING, EVENTS, Event]\n",
      "[Start, Date, End, Date, Location, Speaker]\n",
      "[There, are, no, upcoming, events]\n",
      "[Annual, Meeting, of, the, New, Champions, July, July]\n",
      "[Dalian, China, More, info, Pieter, Ter, Kuile, European, Carbon, Black, Summit, June, June, London, UK]\n",
      "[Ad, van, Oorschot, Global, Entrepreneurship, Summit, June, June]\n",
      "[The, Hague, NL]\n",
      "[More, info, Martijn, Lopes, Cardozo, Raw, Materials, Summit]\n",
      "[May]\n",
      "[May]\n",
      "[Berlin, DE]\n",
      "[More, info]\n",
      "[Geert, Glimmerveen, CFO, Paint]\n",
      "[The, Future, Akzo, Startup, Challenge]\n",
      "[May, Amsterdam, NL]\n",
      "[More, info]\n",
      "[Martijn, Lopes, Cardozo, jury, member]\n",
      "[European, Masterbatch, Summit]\n",
      "[May]\n",
      "[May, Düsseldorf, DE, Tickets, Info, Ad, van, Oorschot, Frank, Cremer]\n",
      "[Next]\n",
      "[See, all, our, past, events, here]\n",
      "[Copyright, Black, Bear, Carbon, B.V.]\n",
      "[Translated]\n",
      "[ts, in, order, to, maximize, our, positive, environmental, impact]\n",
      "[I, am, not, a, tire, recycler, can, I, become, a, Black, Bear, partner]\n",
      "[Absolutely]\n",
      "[We, are, looking, for, partners, that, can, provide, us, with, feedstock, end, of, life, tires, locations, permits, and, financing]\n",
      "[In, many, cases, we, also, partner, with, local, governments]\n",
      "[The, best, way, to, get, in, touch, with, us, is, to, go, to, our, form, and, we, will, get, back, to, you, as, soon, as, possible]\n",
      "[How, much, time, does, it, takes, to, install, a, manufacturing, plant]\n",
      "[On, average, the, construction, of, a, Black, Bear, line, takes, around, months, assuming, a, timely, access, to, permits, and, long, lead, items, from, vendors]\n",
      "[The, design, concept, is, modular, and, has, a, nameplate, output, capacity, of, around, kton, of, carbon, black, a, year]\n",
      "[Black, Bear, and, its, contracted, engineers, will, arrange, all, of, the, required, engineering, aspects, with, detailed, consideration, into, all, site, specific, conditions, and, requirements]\n",
      "[We, will, work, closely, with, the, tire, collector, investor(s, and, provide, all, information, required, to, the, authorities, for, example, for, permitting, to, expedite, the, process]\n",
      "[Copyright, Black, Bear, Carbon, B.V.]\n",
      "[Translated, Home, About]\n",
      "[Us, Carbon, Black, Applications, Coatings, Inks, Plastics, Technical, Rubber, Tires, Becoming]\n",
      "[a, Partner, Sustainability, Media, Gallery, Events, Videos]\n",
      "[Press, Contact]\n",
      "[WE, ARE]\n",
      "[BLACK, BEAR, WE, ARE, TECH, PIONEERS, DISCOVER, WHY, CARBON, BLACK]\n",
      "[Almost, every, black, coloured, object, you, see, contains, Carbon, Black]\n",
      "[Your, mobile, phone, case, the, ink, in, your, pen, the, buttons, on, your, keyboard, and, the, tires, on, your, car]\n",
      "[Carbon, Black, is, everywhere]\n",
      "[UPCYCLED, CARBON, BLACK, FROM, TIRES]\n",
      "[Every, year, more, than, polluting, end, of, life, tires, enter, the, global, waste, stream]\n",
      "[Until, now, there, has, been, no, sustainable, solution]\n",
      "[BLACK, BEAR]\n",
      "[We, upcycle, end, of, life, tires, to, produce, sustainable, Carbon, Black, preventing, CO, emissions, and, solving, the, global, waste, tire, problem]\n",
      "[BLACK, BEAR, IS, SUPPORTED, BY]\n",
      "[PRESS, RELEASE, Black, Bear, awarded, as, Technology, Pioneer, by, World, Economic, Forum]\n",
      "[Press, Release, EN, See, CARBON, BLACK, APPLICATIONS, LATEST, NEWS, Black, Bear, appoints, Victor, Vreeken, as, Chief, Technology, Officer, December]\n",
      "[pieter, Black, Bear, further, strengthens, team, to, support, its, scale, up, and, global, technology, roll, out]\n",
      "[Vreeken, holds, master, ’s, degrees, in, Mechanical, Engineering, Chemical]\n",
      "[Black, Bear, announces, Port, of, Rotterdam, as, preferred, location, for, new, rCB, plant, in, The, Netherlands, November]\n",
      "[pieter, Black, Bear, Carbon, prefers, the, Port, of, Rotterdam, for, its, next, tire, carbonization, plant, in, The, Netherlands]\n",
      "[In, the, upcoming, weeks, Black, Black, Bear, announces, CEO, transition, October]\n",
      "[pieter, Silvio, Ghyoot, will, join, Black, Bear, from, CEFIC, and, brings, significant, experience, in, scaling, factory, infrastructure, and, running, international, operations]\n",
      "[Black, Bear, awarded, as, Technology, Pioneer, by, World, Economic, Forum, July]\n",
      "[pieter]\n",
      "[The, World, Economic, Forum, has, announced, its, selection, of, the, most, promising, Technology, Pioneers, of, who, are, shaping]\n",
      "[Visit, our, Press, page, UPCOMING, EVENTS, Event]\n",
      "[Start, Date, End, Date, Location, Speaker]\n",
      "[There, are, no, upcoming, events]\n",
      "[Annual, Meeting, of, the, New, Champions, July, July]\n",
      "[Dalian, China, More, info, Pieter, Ter, Kuile, European, Carbon, Black, Summit, June, June, London, UK]\n",
      "[Ad, van, Oorschot, Global, Entrepreneurship, Summit, June, June]\n",
      "[The, Hague, NL]\n",
      "[More, info, Martijn, Lopes, Cardozo, Raw, Materials, Summit]\n",
      "[May]\n",
      "[May]\n",
      "[Berlin, DE]\n",
      "[More, info]\n",
      "[Geert, Glimmerveen, CFO, Paint]\n",
      "[The, Future, Akzo, Startup, Challenge]\n",
      "[May, Amsterdam, NL]\n",
      "[More, info]\n",
      "[Martijn, Lopes, Cardozo, jury, member]\n",
      "[European, Masterbatch, Summit]\n",
      "[May]\n",
      "[May, Düsseldorf, DE, Tickets, Info, Ad, van, Oorschot, Frank, Cremer]\n",
      "[Next]\n",
      "[See, all, our, past, events, here]\n",
      "[Copyright, Black, Bear, Carbon, B.V.]\n",
      "[Translated]\n",
      "[ts, in, order, to, maximize, our, positive, environmental, impact]\n",
      "[I, am, not, a, tire, recycler, can, I, become, a, Black, Bear, partner]\n",
      "[Absolutely]\n",
      "[We, are, looking, for, partners, that, can, provide, us, with, feedstock, end, of, life, tires, locations, permits, and, financing]\n",
      "[In, many, cases, we, also, partner, with, local, governments]\n",
      "[The, best, way, to, get, in, touch, with, us, is, to, go, to, our, form, and, we, will, get, back, to, you, as, soon, as, possible]\n",
      "[How, much, time, does, it, takes, to, install, a, manufacturing, plant]\n",
      "[On, average, the, construction, of, a, Black, Bear, line, takes, around, months, assuming, a, timely, access, to, permits, and, long, lead, items, from, vendors]\n",
      "[The, design, concept, is, modular, and, has, a, nameplate, output, capacity, of, around, kton, of, carbon, black, a, year]\n",
      "[Black, Bear, and, its, contracted, engineers, will, arrange, all, of, the, required, engineering, aspects, with, detailed, consideration, into, all, site, specific, conditions, and, requirements]\n",
      "[We, will, work, closely, with, the, tire, collector, investor(s, and, provide, all, information, required, to, the, authorities, for, example, for, permitting, to, expedite, the, process]\n",
      "[Copyright, Black, Bear, Carbon, B.V.]\n",
      "[Translated, Home, About]\n",
      "[Us, Carbon, Black, Applications, Coatings, Inks, Plastics, Technical, Rubber, Tires, Becoming]\n",
      "[a, Partner, Sustainability, Media, Gallery, Events, Videos]\n",
      "[Press, Contact]\n",
      "[WE, ARE]\n",
      "[BLACK, BEAR, WE, ARE, TECH, PIONEERS, DISCOVER, WHY, CARBON, BLACK]\n",
      "[Almost, every, black, coloured, object, you, see, contains, Carbon, Black]\n",
      "[Your, mobile, phone, case, the, ink, in, your, pen, the, buttons, on, your, keyboard, and, the, tires, on, your, car]\n",
      "[Carbon, Black, is, everywhere]\n",
      "[UPCYCLED, CARBON, BLACK, FROM, TIRES]\n",
      "[Every, year, more, than, polluting, end, of, life, tires, enter, the, global, waste, stream]\n",
      "[Until, now, there, has, been, no, sustainable, solution]\n",
      "[BLACK, BEAR]\n",
      "[We, upcycle, end, of, life, tires, to, produce, sustainable, Carbon, Black, preventing, CO, emissions, and, solving, the, global, waste, tire, problem]\n",
      "[BLACK, BEAR, IS, SUPPORTED, BY]\n",
      "[PRESS, RELEASE, Black, Bear, awarded, as, Technology, Pioneer, by, World, Economic, Forum]\n",
      "[Press, Release, EN, See, CARBON, BLACK, APPLICATIONS, LATEST, NEWS, Black, Bear, appoints, Victor, Vreeken, as, Chief, Technology, Officer, December]\n",
      "[pieter, Black, Bear, further, strengthens, team, to, support, its, scale, up, and, global, technology, roll, out]\n",
      "[Vreeken, holds, master, ’s, degrees, in, Mechanical, Engineering, Chemical]\n",
      "[Black, Bear, announces, Port, of, Rotterdam, as, preferred, location, for, new, rCB, plant, in, The, Netherlands, November]\n",
      "[pieter, Black, Bear, Carbon, prefers, the, Port, of, Rotterdam, for, its, next, tire, carbonization, plant, in, The, Netherlands]\n",
      "[In, the, upcoming, weeks, Black, Black, Bear, announces, CEO, transition, October]\n",
      "[pieter, Silvio, Ghyoot, will, join, Black, Bear, from, CEFIC, and, brings, significant, experience, in, scaling, factory, infrastructure, and, running, international, operations]\n",
      "[Black, Bear, awarded, as, Technology, Pioneer, by, World, Economic, Forum, July]\n",
      "[pieter]\n",
      "[The, World, Economic, Forum, has, announced, its, selection, of, the, most, promising, Technology, Pioneers, of, who, are, shaping]\n",
      "[Visit, our, Press, page, UPCOMING, EVENTS, Event]\n",
      "[Start, Date, End, Date, Location, Speaker]\n",
      "[There, are, no, upcoming, events]\n",
      "[Annual, Meeting, of, the, New, Champions, July, July]\n",
      "[Dalian, China, More, info, Pieter, Ter, Kuile, European, Carbon, Black, Summit, June, June, London, UK]\n",
      "[Ad, van, Oorschot, Global, Entrepreneurship, Summit, June, June]\n",
      "[The, Hague, NL]\n",
      "[More, info, Martijn, Lopes, Cardozo, Raw, Materials, Summit]\n",
      "[May]\n",
      "[May]\n",
      "[Berlin, DE]\n",
      "[More, info]\n",
      "[Geert, Glimmerveen, CFO, Paint]\n",
      "[The, Future, Akzo, Startup, Challenge]\n",
      "[May, Amsterdam, NL]\n",
      "[More, info]\n",
      "[Martijn, Lopes, Cardozo, jury, member]\n",
      "[European, Masterbatch, Summit]\n",
      "[May]\n",
      "[May, Düsseldorf, DE, Tickets, Info, Ad, van, Oorschot, Frank, Cremer]\n",
      "[Next]\n",
      "[See, all, our, past, events, here]\n",
      "[Copyright, Black, Bear, Carbon, B.V.]\n",
      "[Translated]\n",
      "[ts, in, order, to, maximize, our, positive, environmental, impact]\n",
      "[I, am, not, a, tire, recycler, can, I, become, a, Black, Bear, partner]\n",
      "[Absolutely]\n",
      "[We, are, looking, for, partners, that, can, provide, us, with, feedstock, end, of, life, tires, locations, permits, and, financing]\n",
      "[In, many, cases, we, also, partner, with, local, governments]\n",
      "[The, best, way, to, get, in, touch, with, us, is, to, go, to, our, form, and, we, will, get, back, to, you, as, soon, as, possible]\n",
      "[How, much, time, does, it, takes, to, install, a, manufacturing, plant]\n",
      "[On, average, the, construction, of, a, Black, Bear, line, takes, around, months, assuming, a, timely, access, to, permits, and, long, lead, items, from, vendors]\n",
      "[The, design, concept, is, modular, and, has, a, nameplate, output, capacity, of, around, kton, of, carbon, black, a, year]\n",
      "[Black, Bear, and, its, contracted, engineers, will, arrange, all, of, the, required, engineering, aspects, with, detailed, consideration, into, all, site, specific, conditions, and, requirements]\n",
      "[We, will, work, closely, with, the, tire, collector, investor(s, and, provide, all, information, required, to, the, authorities, for, example, for, permitting, to, expedite, the, process]\n",
      "[Copyright, Black, Bear, Carbon, B.V.]\n"
     ]
    }
   ],
   "source": [
    "import numpy as np\n",
    "\n",
    "for company, content in missions.items():\n",
    "    docs = nlp.pipe(contents)\n",
    "    for doc in docs:\n",
    "        for sent in doc.sents:\n",
    "            print([tok for tok in sent if not any([tok.is_punct, tok.like_num, tok.like_url, tok.like_email])])\n",
    "            "
   ]
  },
  {
   "cell_type": "code",
   "execution_count": null,
   "metadata": {},
   "outputs": [],
   "source": []
  }
 ],
 "metadata": {
  "kernelspec": {
   "display_name": "impact-nexus-task",
   "language": "python",
   "name": "impact-nexus-task"
  },
  "language_info": {
   "codemirror_mode": {
    "name": "ipython",
    "version": 3
   },
   "file_extension": ".py",
   "mimetype": "text/x-python",
   "name": "python",
   "nbconvert_exporter": "python",
   "pygments_lexer": "ipython3",
   "version": "3.9.0"
  }
 },
 "nbformat": 4,
 "nbformat_minor": 4
}
